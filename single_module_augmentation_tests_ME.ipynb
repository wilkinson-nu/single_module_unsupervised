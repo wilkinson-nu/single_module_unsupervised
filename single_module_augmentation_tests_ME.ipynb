{
 "cells": [
  {
   "cell_type": "code",
   "execution_count": null,
   "metadata": {
    "tags": []
   },
   "outputs": [],
   "source": [
    "from torch.utils.tensorboard import SummaryWriter\n",
    "import MinkowskiEngine as ME\n",
    "from torch import nn\n",
    "import torch\n",
    "import numpy as np\n",
    "\n",
    "import matplotlib.pyplot as plt\n",
    "import matplotlib as mpl\n",
    "\n",
    "%matplotlib inline\n",
    "mpl.rcParams['figure.figsize'] = [8, 6]\n",
    "mpl.rcParams['font.size'] = 16\n",
    "mpl.rcParams['axes.grid'] = True\n",
    "\n",
    "## Tell pytorch we have a GPU if we do\n",
    "device = torch.device('cuda' if torch.cuda.is_available() else 'cpu')\n",
    "torch.device(device)\n",
    "\n",
    "SEED=12345\n",
    "_=np.random.seed(SEED)\n",
    "_=torch.manual_seed(SEED)\n",
    "writer = SummaryWriter(\"log\")"
   ]
  },
  {
   "cell_type": "code",
   "execution_count": null,
   "metadata": {
    "tags": []
   },
   "outputs": [],
   "source": [
    "## Use the common dataset loader\n",
    "from ME_dataset_libs import SingleModuleImage2D_MultiHDF5_ME, triple_ME_collate_fn\n",
    "from ME_dataset_libs import make_dense, make_dense_from_tensor, make_dense_array"
   ]
  },
  {
   "cell_type": "code",
   "execution_count": null,
   "metadata": {
    "tags": []
   },
   "outputs": [],
   "source": [
    "import torchvision.transforms.v2 as transforms\n",
    "import torchvision.transforms.v2.functional as F\n",
    "import random\n",
    "import time\n",
    "\n",
    "## Import all of the pre-defined transforms\n",
    "from ME_dataset_libs import CenterCrop, MaxNonZeroCrop, MaxRegionCrop, \\\n",
    "    RandomCrop, RandomHorizontalFlip, RandomRotation2D, RandomShear2D, \\\n",
    "    RandomBlockZero, RandomBlockZeroImproved, RandomJitterCharge, \\\n",
    "    RandomScaleCharge, RandomElasticDistortion2D, RandomGridDistortion2D, \\\n",
    "    BilinearInterpolation\n",
    "\n",
    "aug_transform = transforms.Compose([\n",
    "            RandomGridDistortion2D(5,5),\n",
    "            RandomShear2D(0.1, 0.1),\n",
    "            RandomHorizontalFlip(),\n",
    "            RandomRotation2D(-10,10),\n",
    "            RandomBlockZeroImproved([0,10], [5,10]),\n",
    "            RandomScaleCharge(0.02),\n",
    "            RandomJitterCharge(0.02),\n",
    "    \t    RandomCrop()\n",
    "            ])\n",
    "\n",
    "\n",
    "## Get a concrete dataset and data loader\n",
    "inDir = \"/pscratch/sd/c/cwilk/h5_inputs_v9/\"\n",
    "start = time.process_time()\n",
    "train_dataset = SingleModuleImage2D_MultiHDF5_ME(inDir, nom_transform=MaxRegionCrop(), aug_transform=aug_transform)\n",
    "print(\"Time taken to load\", train_dataset.__len__(),\"images:\", time.process_time() - start)"
   ]
  },
  {
   "cell_type": "code",
   "execution_count": null,
   "metadata": {
    "tags": []
   },
   "outputs": [],
   "source": [
    "## Visualise data\n",
    "def make_aug_comp_plot(n=0):\n",
    "\n",
    "    ## The dataset works with pairs, so this is just a bit hacky to get more examples\n",
    "    aug1_bcoords, aug1_bfeats, aug2_bcoords, aug2_bfeats, orig_bcoords, orig_bfeats = train_dataset[n]\n",
    "    aug3_bcoords, aug3_bfeats, aug4_bcoords, aug4_bfeats, _, _ = train_dataset[n]\n",
    "\n",
    "    # Visualize the image\n",
    "    plt.figure(figsize=(15,5))\n",
    "    ax = plt.subplot(1,5,1)\n",
    "    gr1 = plt.imshow(make_dense_array(orig_bcoords, orig_bfeats.squeeze()), origin='lower')\n",
    "    ax.get_xaxis().set_visible(False)\n",
    "    ax.get_yaxis().set_visible(False) \n",
    "    ax = plt.subplot(1,5,2)\n",
    "    gr2 = plt.imshow(make_dense_array(aug1_bcoords, aug1_bfeats.squeeze()), origin='lower')\n",
    "    ax.get_xaxis().set_visible(False)\n",
    "    ax.get_yaxis().set_visible(False) \n",
    "    ax = plt.subplot(1,5,3)\n",
    "    gr3 = plt.imshow(make_dense_array(aug2_bcoords, aug2_bfeats.squeeze()), origin='lower')\n",
    "    ax.get_xaxis().set_visible(False)\n",
    "    ax.get_yaxis().set_visible(False) \n",
    "    ax = plt.subplot(1,5,4)\n",
    "    gr4 = plt.imshow(make_dense_array(aug3_bcoords, aug3_bfeats.squeeze()), origin='lower')\n",
    "    ax.get_xaxis().set_visible(False)\n",
    "    ax.get_yaxis().set_visible(False) \n",
    "    ax = plt.subplot(1,5,5)\n",
    "    gr5 = plt.imshow(make_dense_array(aug4_bcoords, aug4_bfeats.squeeze()), origin='lower')\n",
    "    ax.get_xaxis().set_visible(False)\n",
    "    ax.get_yaxis().set_visible(False) \n"
   ]
  },
  {
   "cell_type": "code",
   "execution_count": null,
   "metadata": {},
   "outputs": [],
   "source": [
    "## Dump a few events!\n",
    "for n in range(20): \n",
    "    make_aug_comp_plot(n)"
   ]
  },
  {
   "cell_type": "code",
   "execution_count": null,
   "metadata": {},
   "outputs": [],
   "source": []
  }
 ],
 "metadata": {
  "kernelspec": {
   "display_name": "ML_tools_ME",
   "language": "python",
   "name": "ml_tools_me"
  },
  "language_info": {
   "codemirror_mode": {
    "name": "ipython",
    "version": 3
   },
   "file_extension": ".py",
   "mimetype": "text/x-python",
   "name": "python",
   "nbconvert_exporter": "python",
   "pygments_lexer": "ipython3",
   "version": "3.10.14"
  }
 },
 "nbformat": 4,
 "nbformat_minor": 4
}
