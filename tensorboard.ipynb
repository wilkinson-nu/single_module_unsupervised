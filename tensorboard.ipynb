{
 "cells": [
  {
   "cell_type": "code",
   "execution_count": null,
   "id": "ea048d1f-dd1a-4fb5-b49a-a2d0fdf21134",
   "metadata": {},
   "outputs": [],
   "source": [
    "## Run this notebook with any tensorflow kernel on NERSC (NOT the usual ML_tools:ML kernel)\n",
    "import tensorflow as tf\n",
    "import nersc_tensorboard_helper\n",
    "%reload_ext tensorboard"
   ]
  },
  {
   "cell_type": "code",
   "execution_count": null,
   "id": "669809ae-575f-4f01-b961-156a843cef19",
   "metadata": {},
   "outputs": [],
   "source": [
    "## Logdir must be defined for this to work\n",
    "%tensorboard --logdir $LOGDIR --port 0"
   ]
  },
  {
   "cell_type": "code",
   "execution_count": null,
   "id": "3ca72886-461d-4119-aac2-97138503cbac",
   "metadata": {},
   "outputs": [],
   "source": [
    "### The following function will provide you with an address to connect to the tensorboard instance\n",
    "nersc_tensorboard_helper.tb_address()"
   ]
  },
  {
   "cell_type": "code",
   "execution_count": null,
   "id": "b98200e8-d0ce-4af2-b38b-f0540f7c063e",
   "metadata": {},
   "outputs": [],
   "source": []
  }
 ],
 "metadata": {
  "kernelspec": {
   "display_name": "tensorflow-2.15.0",
   "language": "python",
   "name": "tensorflow-2.15.0"
  },
  "language_info": {
   "codemirror_mode": {
    "name": "ipython",
    "version": 3
   },
   "file_extension": ".py",
   "mimetype": "text/x-python",
   "name": "python",
   "nbconvert_exporter": "python",
   "pygments_lexer": "ipython3",
   "version": "3.9.18"
  }
 },
 "nbformat": 4,
 "nbformat_minor": 5
}
