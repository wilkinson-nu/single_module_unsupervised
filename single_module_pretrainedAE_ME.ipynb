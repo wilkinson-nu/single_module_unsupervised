{
 "cells": [
  {
   "cell_type": "code",
   "execution_count": null,
   "metadata": {
    "tags": []
   },
   "outputs": [],
   "source": [
    "import MinkowskiEngine as ME\n",
    "import matplotlib.pyplot as plt\n",
    "import matplotlib as mpl\n",
    "import torchvision.transforms.v2 as transforms\n",
    "import torchvision.transforms.v2.functional as F\n",
    "\n",
    "%matplotlib inline\n",
    "mpl.rcParams['figure.figsize'] = [8, 6]\n",
    "mpl.rcParams['font.size'] = 16\n",
    "mpl.rcParams['axes.grid'] = True\n",
    "\n",
    "import torch\n",
    "device = 'cpu' #torch.device('cuda' if torch.cuda.is_available() else 'cpu')\n",
    "torch.device(device)\n",
    "import numpy as np\n",
    "SEED=12345\n",
    "_=np.random.seed(SEED)\n",
    "_=torch.manual_seed(SEED)"
   ]
  },
  {
   "cell_type": "code",
   "execution_count": null,
   "metadata": {
    "tags": []
   },
   "outputs": [],
   "source": [
    "## Includes from my libraries for this project                                                                                                                                           \n",
    "from ME_NN_libs import AsymmetricL2LossME, EuclideanDistLoss\n",
    "from ME_NN_libs import EncoderME, DecoderME, DeepEncoderME, DeepDecoderME, DeeperEncoderME, DeeperDecoderME\n",
    "from ME_dataset_libs import CenterCrop, RandomCrop, RandomHorizontalFlip, RandomRotation2D, RandomShear2D, RandomBlockZero\n",
    "from ME_dataset_libs import SingleModuleImage2D_MultiHDF5_ME, triple_ME_collate_fn\n",
    "from ME_dataset_libs import SingleModuleImage2D_solo_ME, solo_ME_collate_fn\n",
    "from ME_dataset_libs import make_dense, make_dense_from_tensor"
   ]
  },
  {
   "cell_type": "code",
   "execution_count": null,
   "metadata": {
    "tags": []
   },
   "outputs": [],
   "source": [
    "nchan=32\n",
    "nlatent=32\n",
    "act_fn=ME.MinkowskiReLU\n",
    "dropout=0\n",
    "\n",
    "## Define the models\n",
    "#encoder=EncoderME(nchan, nlatent, act_fn, dropout)\n",
    "#decoder=DecoderME(nchan, nlatent, act_fn)\n",
    "\n",
    "nchan=16\n",
    "nlatent=128\n",
    "hidden_act_fn=ME.MinkowskiSiLU\n",
    "latent_act_fn=ME.MinkowskiTanh\n",
    "dropout=0\n",
    "\n",
    "## Define the models\n",
    "encoder=EncoderME(nchan, nlatent, hidden_act_fn, latent_act_fn, dropout)\n",
    "decoder=DecoderME(nchan, nlatent, hidden_act_fn)\n",
    "\n",
    "## Load in the pre-calculated model weights\n",
    "chk_file=\"/pscratch/sd/c/cwilk/state_lat\"+str(nlatent)+\"_nchan\"+str(nchan)+\"_5e-6_archsimple_SOLO_actfns_silu_tanh_2M_onecycle_ME.pth\"\n",
    "inDir = \"/pscratch/sd/c/cwilk/h5_inputs/\"\n",
    "\n",
    "## Load in the pre-calculated model weights\n",
    "nevents = 100000\n",
    "#chk_file=\"/pscratch/sd/c/cwilk/state_lat\"+str(nlatent)+\"_nchan\"+str(nchan)+\"_5e-6_archsimple_SOLO_NEWAUGNOBI_1M_onecycle_ME.pth\"\n",
    "#inDir = \"/pscratch/sd/c/cwilk/h5_inputs/\"\n",
    "\n",
    "checkpoint = torch.load(chk_file, map_location=device)\n",
    "encoder.load_state_dict(checkpoint['encoder_state_dict'])\n",
    "decoder.load_state_dict(checkpoint['decoder_state_dict'])\n",
    "encoder.eval()\n",
    "decoder.eval()\n",
    "\n",
    "encoder.to(device)\n",
    "decoder.to(device)"
   ]
  },
  {
   "cell_type": "code",
   "execution_count": null,
   "metadata": {
    "tags": []
   },
   "outputs": [],
   "source": [
    "import time\n",
    "start = time.process_time() \n",
    "train_dataset = SingleModuleImage2D_solo_ME(inDir, transform=CenterCrop(), max_events=100000) #nevents)\n",
    "print(\"Time taken to load\", train_dataset.__len__(),\"images:\", time.process_time() - start)\n",
    "\n",
    "## Randomly chosen batching\n",
    "single_loader = torch.utils.data.DataLoader(train_dataset,\n",
    "                                            collate_fn=solo_ME_collate_fn,\n",
    "                                            batch_size=1,\n",
    "                                            shuffle=False,\n",
    "                                            num_workers=1)"
   ]
  },
  {
   "cell_type": "code",
   "execution_count": null,
   "metadata": {
    "tags": []
   },
   "outputs": [],
   "source": [
    "## Make a few example plots for comparison\n",
    "def plot_ae_outputs(encoder,decoder,loader,n=10, start=0):  \n",
    "    loader_iter = iter(loader)\n",
    "    for x in range(start): next(loader_iter)\n",
    "    plt.figure(figsize=(12,5))\n",
    "    \n",
    "    encoder.eval()\n",
    "    decoder.eval()\n",
    "    ## Loop over figures\n",
    "    for i in range(n):\n",
    "        ax = plt.subplot(3,n,i+1)\n",
    "\n",
    "        orig_bcoords, orig_bfeats = next(loader_iter)\n",
    "        \n",
    "        with torch.no_grad():\n",
    "            \n",
    "            orig_bcoords = orig_bcoords.to(device)\n",
    "            orig_bfeats = orig_bfeats.to(device)\n",
    "            orig = ME.SparseTensor(orig_bfeats.float(), orig_bcoords.int(), device=device)\n",
    "\n",
    "            enc_orig  = encoder(orig)\n",
    "            rec_orig  = decoder(enc_orig)\n",
    "            \n",
    "        inputs  = make_dense_from_tensor(orig)\n",
    "        outputs = make_dense_from_tensor(rec_orig)\n",
    "        \n",
    "        this_input = inputs[0].cpu().squeeze().numpy()\n",
    "        this_output = outputs[0].cpu().squeeze().numpy()\n",
    "        \n",
    "        # print(this_output)\n",
    "        \n",
    "        ## Input row\n",
    "        plt.imshow(this_input, cmap='viridis', origin='lower')            \n",
    "        ax.get_xaxis().set_visible(False)\n",
    "        ax.get_yaxis().set_visible(False)  \n",
    "        if i == n//2: ax.set_title('Original images')\n",
    "        \n",
    "        ## Reconstructed row\n",
    "        ax = plt.subplot(3, n, i + 1 + n)\n",
    "        plt.imshow(this_output, cmap='viridis', origin='lower')  \n",
    "        ax.get_xaxis().set_visible(False)\n",
    "        ax.get_yaxis().set_visible(False)  \n",
    "        if i == n//2: ax.set_title('Reconstructed images')\n",
    "    \n",
    "    plt.show()"
   ]
  },
  {
   "cell_type": "code",
   "execution_count": null,
   "metadata": {
    "tags": []
   },
   "outputs": [],
   "source": [
    "plot_ae_outputs(encoder,decoder,single_loader,n=12, start=1000)"
   ]
  },
  {
   "cell_type": "code",
   "execution_count": null,
   "metadata": {
    "tags": []
   },
   "outputs": [],
   "source": [
    "import pandas as pd \n",
    "import numpy as np\n",
    "\n",
    "latent_vectors = []\n",
    "nhits = []\n",
    "\n",
    "nevt = 0\n",
    "for orig_bcoords, orig_bfeats in single_loader:\n",
    "    \n",
    "    ## If the center crop is blank, everything barfs\n",
    "    if orig_bfeats.size()[0] == 0: continue\n",
    "\n",
    "    if nevt%10000==0: print(\"Processed evt:\", nevt)\n",
    "    orig_bcoords = orig_bcoords.to(device)\n",
    "    orig_bfeats = orig_bfeats.to(device)\n",
    "    orig_batch = ME.SparseTensor(orig_bfeats, orig_bcoords, device=device)            \n",
    "                                            \n",
    "    ## Now do the forward passes            \n",
    "    encoder.eval()\n",
    "    with torch.no_grad(): encoded_batch = encoder(orig_batch)\n",
    "        \n",
    "    lat_vect = encoded_batch.F.flatten().cpu().numpy()\n",
    "\n",
    "    ## Remove fringe cases\n",
    "    if lat_vect.size == 0: \n",
    "        print(\"Broken image:\", orig_feats.size())\n",
    "        continue\n",
    "    \n",
    "    nhits.append(orig_bfeats.size()[0])\n",
    "    latent_vectors.append(lat_vect)\n",
    "    nevt+=1\n",
    "\n",
    "latent_vectors = np.vstack(latent_vectors)\n",
    "\n"
   ]
  },
  {
   "cell_type": "code",
   "execution_count": null,
   "metadata": {
    "tags": []
   },
   "outputs": [],
   "source": [
    "# Make a plot of what it looks like\n",
    "plt.scatter(latent_vectors[:,0], latent_vectors[:,1], s=1, vmin=100, vmax=500, c=nhits)"
   ]
  },
  {
   "cell_type": "code",
   "execution_count": null,
   "metadata": {
    "tags": []
   },
   "outputs": [],
   "source": [
    "## Now TSNE it up\n",
    "from sklearn.manifold import TSNE\n",
    "\n",
    "perp=50\n",
    "exag=20\n",
    "print(\"Perplexity =\", perp, \"early exaggeration =\", exag)\n",
    "tsne = TSNE(n_components=2, perplexity=perp, max_iter=1000, early_exaggeration=exag, verbose=1) #, perplexity=60, n_iter=1000, early_exaggeration=20)\n",
    "tsne_results = tsne.fit_transform(latent_vectors)"
   ]
  },
  {
   "cell_type": "code",
   "execution_count": null,
   "metadata": {
    "tags": []
   },
   "outputs": [],
   "source": [
    "gr = plt.scatter(list(zip(*tsne_results))[0], list(zip(*tsne_results))[1], s=1, alpha=0.8, vmin=100, vmax=500, c=nhits)\n",
    "plt.colorbar(gr)\n",
    "plt.show()"
   ]
  },
  {
   "cell_type": "code",
   "execution_count": null,
   "metadata": {
    "tags": []
   },
   "outputs": [],
   "source": [
    "from sklearn.cluster import DBSCAN\n",
    "from sklearn.preprocessing import StandardScaler\n",
    "\n",
    "scaled_encoded_images = latent_vectors #encoded_images\n",
    "# scaled_encoded_images = StandardScaler().fit_transform(encoded_images)\n",
    "\n",
    "plt.scatter(scaled_encoded_images[:, 0], scaled_encoded_images[:, 1], s=1)\n",
    "plt.show()"
   ]
  },
  {
   "cell_type": "code",
   "execution_count": null,
   "metadata": {
    "tags": []
   },
   "outputs": [],
   "source": [
    "## Try k-NN algorithm\n",
    "from sklearn.neighbors import NearestNeighbors\n",
    "\n",
    "# Assuming `latent_space` is your latent space representation\n",
    "latent_space = latent_vectors #np.array(latent_space)  # Ensure latent_space is a NumPy array\n",
    "\n",
    "# Find the distances to the k-nearest neighbors\n",
    "k = 20  # You can set k equal to min_samples\n",
    "neighbors = NearestNeighbors(n_neighbors=k)\n",
    "neighbors_fit = neighbors.fit(latent_space)\n",
    "distances, indices = neighbors_fit.kneighbors(latent_space)\n",
    "\n",
    "# Sort distances to the k-th nearest neighbor (ascending order)\n",
    "distances = np.sort(distances, axis=0)\n",
    "distances = distances[:, 1]\n",
    "\n",
    "# Plot the distances\n",
    "plt.figure(figsize=(10, 6))\n",
    "plt.plot(distances)\n",
    "ax = plt.gca()\n",
    "#ax.set_ylim([0,0.2])\n",
    "plt.title('k-NN Distance Plot')\n",
    "plt.xlabel('Points sorted by distance to {}-th nearest neighbor'.format(k))\n",
    "plt.ylabel('Distance')\n",
    "plt.show()"
   ]
  },
  {
   "cell_type": "code",
   "execution_count": null,
   "metadata": {
    "tags": []
   },
   "outputs": [],
   "source": [
    "from sklearn.cluster import DBSCAN\n",
    "dbscan = DBSCAN(eps=200, min_samples=20)\n",
    "\n",
    "clusters = dbscan.fit(scaled_encoded_images)\n",
    "\n",
    "labels = clusters.labels_\n",
    "\n",
    "# Number of clusters in labels, ignoring noise if present.\n",
    "n_clusters_ = len(set(labels)) - (1 if -1 in labels else 0)\n",
    "n_noise_ = list(labels).count(-1)\n",
    "\n",
    "n_points = [list(labels).count(x) for x in range(n_clusters_)]\n",
    "\n",
    "print(\"Estimated number of clusters: %d\" % n_clusters_)\n",
    "print(\"N. points in clusters:\", n_points)\n",
    "print(\"Estimated number of noise points: %d\" % n_noise_)\n",
    "print(\"(Out of a total of %d images)\" % len(scaled_encoded_images))"
   ]
  },
  {
   "cell_type": "code",
   "execution_count": null,
   "metadata": {
    "tags": []
   },
   "outputs": [],
   "source": [
    "unique_labels = set(labels)\n",
    "core_samples_mask = np.zeros_like(labels, dtype=bool)\n",
    "core_samples_mask[dbscan.core_sample_indices_] = True\n",
    "\n",
    "colors = [plt.cm.Spectral(each) for each in np.linspace(0, 1, len(unique_labels))]\n",
    "for k, col in zip(unique_labels, colors):\n",
    "    if k == -1:\n",
    "        # Black used for noise.\n",
    "        col = [0, 0, 0, 1]\n",
    "\n",
    "    class_member_mask = labels == k\n",
    "\n",
    "    xy = scaled_encoded_images[class_member_mask & core_samples_mask]\n",
    "    plt.plot(\n",
    "        xy[:, 0],\n",
    "        xy[:, 1],\n",
    "        \"o\",\n",
    "        markerfacecolor=tuple(col),\n",
    "        markeredgecolor=\"k\",\n",
    "        markersize=14,\n",
    "    )\n",
    "\n",
    "    xy = scaled_encoded_images[class_member_mask & ~core_samples_mask]\n",
    "    plt.plot(\n",
    "        xy[:, 0],\n",
    "        xy[:, 1],\n",
    "        \"o\",\n",
    "        markerfacecolor=tuple(col),\n",
    "        markeredgecolor=\"k\",\n",
    "        markersize=0.1,\n",
    "    )\n",
    "\n",
    "plt.title(f\"Estimated number of clusters: {n_clusters_}\")\n",
    "plt.show()\n"
   ]
  },
  {
   "cell_type": "code",
   "execution_count": null,
   "metadata": {
    "tags": []
   },
   "outputs": [],
   "source": [
    "## Now TSNE it up\n",
    "from sklearn.manifold import TSNE\n",
    "\n",
    "perp=50\n",
    "exag=50\n",
    "print(\"Perplexity =\", perp, \"early exaggeration =\", exag)\n",
    "tsne = TSNE(n_components=2, perplexity=perp, n_iter=1000, early_exaggeration=exag)#, verbose=1, perplexity=60, n_iter=1000, early_exaggeration=20)\n",
    "tsne_results = tsne.fit_transform(encoded_samples)"
   ]
  },
  {
   "cell_type": "code",
   "execution_count": null,
   "metadata": {
    "tags": []
   },
   "outputs": [],
   "source": [
    "## Visualise the results including the DB cluster info\n",
    "plt.scatter(list(zip(*tsne_results))[0], list(zip(*tsne_results))[1], s=1, c=labels)"
   ]
  },
  {
   "cell_type": "code",
   "execution_count": null,
   "metadata": {
    "tags": []
   },
   "outputs": [],
   "source": [
    "## Function to show examples for each cluster\n",
    "def plot_cluster_examples(raw_images, labels, index, max_images=10): \n",
    "    \n",
    "    plt.figure(figsize=(12,4.5))\n",
    "\n",
    "    ## Get a mask of labels\n",
    "    indices = np.where(np.array(labels) == index)[0]\n",
    "    \n",
    "    ## Grab the first 10 images (if there are 10)\n",
    "    if len(indices) < max_images:\n",
    "        max_images = len(indices)\n",
    "    \n",
    "    ## Plot\n",
    "    for i in range(max_images):\n",
    "        ax = plt.subplot(2,max_images,i+1)\n",
    "        plt.imshow(raw_images[indices[i]], origin='lower')\n",
    "        ax.get_xaxis().set_visible(False)\n",
    "        ax.get_yaxis().set_visible(False)            \n",
    "    plt.show()   "
   ]
  },
  {
   "cell_type": "code",
   "execution_count": null,
   "metadata": {
    "tags": []
   },
   "outputs": [],
   "source": [
    "## Now pull out a bank of example images for each cluster\n",
    "\n",
    "for index in range(n_clusters_):\n",
    "    print(\"Showing examples for cluster:\", index, \"which has\", n_points[index], \"values\")\n",
    "    plot_cluster_examples(train_dataset, labels, index)\n",
    "\n",
    "print(\"Showing examples for the noise, which has\", n_noise_, \"values\")\n",
    "plot_cluster_examples(train_dataset, labels, -1)"
   ]
  },
  {
   "cell_type": "code",
   "execution_count": null,
   "metadata": {},
   "outputs": [],
   "source": []
  }
 ],
 "metadata": {
  "kernelspec": {
   "display_name": "ML_tools_ME",
   "language": "python",
   "name": "ml_tools_me"
  },
  "language_info": {
   "codemirror_mode": {
    "name": "ipython",
    "version": 3
   },
   "file_extension": ".py",
   "mimetype": "text/x-python",
   "name": "python",
   "nbconvert_exporter": "python",
   "pygments_lexer": "ipython3",
   "version": "3.10.14"
  }
 },
 "nbformat": 4,
 "nbformat_minor": 4
}
