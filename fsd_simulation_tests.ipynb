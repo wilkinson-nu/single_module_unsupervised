{
 "cells": [
  {
   "cell_type": "code",
   "execution_count": null,
   "metadata": {
    "tags": []
   },
   "outputs": [],
   "source": [
    "from torch.utils.tensorboard import SummaryWriter\n",
    "import MinkowskiEngine as ME\n",
    "from torch import nn\n",
    "import torch\n",
    "import numpy as np\n",
    "\n",
    "import matplotlib.pyplot as plt\n",
    "import matplotlib as mpl\n",
    "\n",
    "%matplotlib inline\n",
    "mpl.rcParams['figure.figsize'] = [8, 6]\n",
    "mpl.rcParams['font.size'] = 16\n",
    "mpl.rcParams['axes.grid'] = True\n",
    "\n",
    "## Tell pytorch we have a GPU if we do\n",
    "device = torch.device('cuda' if torch.cuda.is_available() else 'cpu')\n",
    "torch.device(device)\n",
    "\n",
    "SEED=12345\n",
    "_=np.random.seed(SEED)\n",
    "_=torch.manual_seed(SEED)\n",
    "writer = SummaryWriter(\"log\")"
   ]
  },
  {
   "cell_type": "code",
   "execution_count": null,
   "metadata": {
    "tags": []
   },
   "outputs": [],
   "source": [
    "## Use the common dataset loader\n",
    "from ME_dataset_libs import SingleModuleImage2D_MultiHDF5_ME, triple_ME_collate_fn\n",
    "from ME_dataset_libs import make_dense, make_dense_from_tensor, make_dense_array"
   ]
  },
  {
   "cell_type": "code",
   "execution_count": null,
   "metadata": {},
   "outputs": [],
   "source": [
    "import h5py\n",
    "from scipy.sparse import coo_matrix\n",
    "\n",
    "## This function just pulls an image directly from the file, without going through a pytorch dataloder\n",
    "## You would need to have a file open: f = h5py.File(input_file, 'r')\n",
    "def show_image(i, f):\n",
    "    group = f[str(i)]\n",
    "    data = group['data'][:]\n",
    "    row = group['row'][:]\n",
    "    col = group['col'][:]\n",
    "\n",
    "    ## Use the format that ME requires                                                                                                                                                                         \n",
    "\t## Note that we can't build the sparse tensor here because ME uses some sort of global indexing                                                                                                            \n",
    "\t## And this function is replicated * num_workers                                                                                                                                                           \n",
    "    this_sparse = coo_matrix((data, (row, col)), dtype=np.float32, shape=(800, 256))    \n",
    "    this_image = this_sparse.toarray()\n",
    "\n",
    "    gr = plt.imshow(this_image, origin='lower')\n",
    "    plt.colorbar(gr)\n",
    "    plt.show()"
   ]
  },
  {
   "cell_type": "code",
   "execution_count": null,
   "metadata": {
    "tags": []
   },
   "outputs": [],
   "source": [
    "import torchvision.transforms.v2 as transforms\n",
    "from ME_dataset_libs import MaxRegionCrop, RandomGridDistortion2D, RandomShear2D, RandomRotation2D, RandomHorizontalFlip, \\\n",
    "    RandomBlockZeroImproved, RandomScaleCharge, RandomJitterCharge, ConstantCharge, SemiRandomCrop, DoNothing\n",
    "\n",
    "x_max=256\n",
    "y_max=512\n",
    "aug_transform = transforms.Compose([\n",
    "            RandomGridDistortion2D(50,3),\n",
    "            RandomShear2D(0.1, 0.1),\n",
    "            RandomRotation2D(-10,10),\n",
    "            RandomHorizontalFlip(),\n",
    "            RandomBlockZeroImproved([0,10], [5,10], [0,x_max], [0,y_max]),\n",
    "            RandomScaleCharge(0.02),\n",
    "            RandomJitterCharge(0.02),\n",
    "    \t    SemiRandomCrop(x_max, y_max)\n",
    "            ])\n",
    "\n",
    "## Load some images into a data loader\n",
    "sim_dir = \"/pscratch/sd/c/cwilk/FSD/SIMULATION\"\n",
    "data_dir = \"/pscratch/sd/c/cwilk/FSD/DATA\"\n",
    "\n",
    "sim_dataset = SingleModuleImage2D_MultiHDF5_ME(data_dir, nom_transform=DoNothing(), aug_transform=aug_transform)\n",
    "print(\"Found\", sim_dataset.__len__(), \"simulated events\")\n",
    "data_dataset = SingleModuleImage2D_MultiHDF5_ME(data_dir, nom_transform=DoNothing(), aug_transform=aug_transform)\n",
    "print(\"Found\", data_dataset.__len__(), \"data events\")"
   ]
  },
  {
   "cell_type": "code",
   "execution_count": null,
   "metadata": {
    "tags": []
   },
   "outputs": [],
   "source": [
    "## Visualise data\n",
    "def make_aug_comp_plot(dataset, n=0):\n",
    "\n",
    "    ## The dataset works with pairs, so this is just a bit hacky to get more examples\n",
    "    aug1_bcoords, aug1_bfeats, aug2_bcoords, aug2_bfeats, orig_bcoords, orig_bfeats = dataset[n]\n",
    "    aug3_bcoords, aug3_bfeats, aug4_bcoords, aug4_bfeats, _, _ = dataset[n]\n",
    "\n",
    "    # Visualize the image\n",
    "    plt.figure(figsize=(15,5))\n",
    "    ax = plt.subplot(1,5,1)\n",
    "    gr1 = plt.imshow(make_dense_array(orig_bcoords, orig_bfeats.squeeze(), 800, 256), origin='lower')\n",
    "    ax.get_xaxis().set_visible(False)\n",
    "    ax.get_yaxis().set_visible(False) \n",
    "    ax = plt.subplot(1,5,2)\n",
    "    gr2 = plt.imshow(make_dense_array(aug1_bcoords, aug1_bfeats.squeeze(), 512, 256), origin='lower')\n",
    "    ax.get_xaxis().set_visible(False)\n",
    "    ax.get_yaxis().set_visible(False) \n",
    "    ax = plt.subplot(1,5,3)\n",
    "    gr3 = plt.imshow(make_dense_array(aug2_bcoords, aug2_bfeats.squeeze(), 512, 256), origin='lower')\n",
    "    ax.get_xaxis().set_visible(False)\n",
    "    ax.get_yaxis().set_visible(False) \n",
    "    ax = plt.subplot(1,5,4)\n",
    "    gr4 = plt.imshow(make_dense_array(aug3_bcoords, aug3_bfeats.squeeze(), 512, 256), origin='lower')\n",
    "    ax.get_xaxis().set_visible(False)\n",
    "    ax.get_yaxis().set_visible(False) \n",
    "    ax = plt.subplot(1,5,5)\n",
    "    gr5 = plt.imshow(make_dense_array(aug4_bcoords, aug4_bfeats.squeeze(), 512, 256), origin='lower')\n",
    "    ax.get_xaxis().set_visible(False)\n",
    "    ax.get_yaxis().set_visible(False) \n"
   ]
  },
  {
   "cell_type": "code",
   "execution_count": null,
   "metadata": {},
   "outputs": [],
   "source": [
    "## Dump a few events!\n",
    "## This will\n",
    "for n in range(5): \n",
    "    make_aug_comp_plot(data_dataset, n)\n",
    "    make_aug_comp_plot(sim_dataset, n)\n"
   ]
  },
  {
   "cell_type": "code",
   "execution_count": null,
   "metadata": {},
   "outputs": [],
   "source": []
  },
  {
   "cell_type": "code",
   "execution_count": null,
   "metadata": {},
   "outputs": [],
   "source": []
  }
 ],
 "metadata": {
  "kernelspec": {
   "display_name": "ML_tools_ME",
   "language": "python",
   "name": "ml_tools_me"
  },
  "language_info": {
   "codemirror_mode": {
    "name": "ipython",
    "version": 3
   },
   "file_extension": ".py",
   "mimetype": "text/x-python",
   "name": "python",
   "nbconvert_exporter": "python",
   "pygments_lexer": "ipython3",
   "version": "3.10.14"
  }
 },
 "nbformat": 4,
 "nbformat_minor": 4
}
